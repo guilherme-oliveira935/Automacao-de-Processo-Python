{
 "cells": [
  {
   "cell_type": "markdown",
   "metadata": {},
   "source": [
    "### Passo 1 - Importar Arquivos e Bibliotecas"
   ]
  },
  {
   "cell_type": "code",
   "execution_count": 1,
   "metadata": {},
   "outputs": [],
   "source": [
    "import pandas as pd \n",
    "from pathlib import Path as p\n",
    "import win32com.client as win32"
   ]
  },
  {
   "cell_type": "code",
   "execution_count": 2,
   "metadata": {},
   "outputs": [],
   "source": [
    "base_emails = pd.read_excel(r'caminho do arquivo excel Emails')\n",
    "base_lojas = pd.read_csv(r'caminho do arquivo excel Lojas', encoding='latin1', sep=';')\n",
    "base_vendas = pd.read_excel(r'caminho do arquivo excel Vendas')"
   ]
  },
  {
   "cell_type": "markdown",
   "metadata": {},
   "source": [
    "### Passo 2 - juntar a base de lojas com a base de suas vendas, Criar uma Tabela para cada Loja e Definir o dia do Indicador"
   ]
  },
  {
   "cell_type": "code",
   "execution_count": 3,
   "metadata": {},
   "outputs": [],
   "source": [
    "base_vendas = pd.merge(base_vendas, base_lojas, on='ID Loja')"
   ]
  },
  {
   "cell_type": "code",
   "execution_count": 4,
   "metadata": {},
   "outputs": [],
   "source": [
    "dicionario_lojas = {}\n",
    "\n",
    "for loja in base_lojas['Loja']:\n",
    "    dicionario_lojas[loja] = base_vendas.loc[base_vendas['Loja'] == loja, :]"
   ]
  },
  {
   "cell_type": "code",
   "execution_count": 7,
   "metadata": {},
   "outputs": [],
   "source": [
    "dia_indicador = base_vendas['Data'].max()"
   ]
  },
  {
   "cell_type": "markdown",
   "metadata": {},
   "source": [
    "### Passo 3 - Salvar a planilha na pasta de backup"
   ]
  },
  {
   "cell_type": "code",
   "execution_count": 9,
   "metadata": {},
   "outputs": [],
   "source": [
    "caminho = p(r'Caminho da pasta de BackUp')\n",
    "arquivos_lojas_backup = p.iterdir(caminho)\n",
    "nomes_arquivos = [arquivo.name for arquivo in arquivos_lojas_backup]\n",
    "\n",
    "for nome_loja in dicionario_lojas:\n",
    "    if nome_loja not in nomes_arquivos:\n",
    "        (caminho/nome_loja).mkdir()\n",
    "    nome_arquivo = f'{nome_loja} {dia_indicador.day}-{dia_indicador.month}.xlsx'\n",
    "    local_arquivo = caminho/nome_loja/nome_arquivo\n",
    "    dicionario_lojas[nome_loja].to_excel(local_arquivo)"
   ]
  },
  {
   "cell_type": "markdown",
   "metadata": {},
   "source": [
    "### Passo 4 - Calcular os indicadores e mandar email para o gerente"
   ]
  },
  {
   "cell_type": "code",
   "execution_count": 14,
   "metadata": {
    "scrolled": true
   },
   "outputs": [
    {
     "name": "stdout",
     "output_type": "stream",
     "text": [
      "d:\\py\\python_impressionador\\PROJETO 1\\Projeto AutomacaoIndicadores\n",
      "d:\\py\\python_impressionador\\PROJETO 1\\Projeto AutomacaoIndicadores\n",
      "d:\\py\\python_impressionador\\PROJETO 1\\Projeto AutomacaoIndicadores\n"
     ]
    }
   ],
   "source": [
    "meta_faturamento_dia = 1000\n",
    "meta_faturamento_ano = 1650000\n",
    "meta_qtheprodutos_dia = 4\n",
    "meta_qtheprodutos_ano = 120\n",
    "meta_ticketmedio_dia = 500\n",
    "meta_ticketmedio_ano = 500\n",
    "\n",
    "for loja in dicionario_lojas:\n",
    "    \n",
    "    #pegamos apenas as colunas que vamos trabalhar, para diminiur o uso de memória\n",
    "    dados_loja_ano = dicionario_lojas[loja][['Código Venda', 'Produto', 'Quantidade', 'Valor Unitário', 'Valor Final', 'Loja']]\n",
    "    dados_loja_dia = dicionario_lojas[loja][['Código Venda', 'Produto', 'Quantidade', 'Valor Unitário', 'Valor Final', 'Loja']].loc[dicionario_lojas[loja]['Data'] == dia_indicador, :]\n",
    "\n",
    "    faturamento_ano = dados_loja_ano['Valor Final'].sum()\n",
    "    faturamento_dia = dados_loja_dia['Valor Final'].sum()\n",
    "\n",
    "    qte_produtos_diferentes_ano = len(dados_loja_ano['Produto'].unique())\n",
    "    qte_produtos_diferentes_dia = len(dados_loja_dia['Produto'].unique())\n",
    "\n",
    "\n",
    "    valor_venda_por_cliente_dia = dados_loja_dia.groupby('Código Venda').sum()\n",
    "    valor_venda_por_cliente_ano = dados_loja_ano.groupby('Código Venda').sum()\n",
    "    ticketmedio_dia = valor_venda_por_cliente_dia['Valor Final'].mean()\n",
    "    ticketmedio_ano = valor_venda_por_cliente_ano['Valor Final'].mean()\n",
    "\n",
    "    nome_gerente = base_emails.loc[base_emails['Loja'] == loja, ['Gerente']].values[0][0]\n",
    "    email_gerente = base_emails.loc[base_emails['Loja'] == loja, ['E-mail']].values[0][0]\n",
    "   \n",
    "    outlook = win32.Dispatch('outlook.application')\n",
    "    mail = outlook.CreateItem(0)\n",
    "    mail.To = email_gerente\n",
    "    mail.Subject = f'OnePage Dia {dia_indicador.day}/{dia_indicador.month} - Loja {loja}'\n",
    "    \n",
    "    if faturamento_dia >= meta_faturamento_dia:\n",
    "        cor_faturamento_dia = '#008000'\n",
    "    else:\n",
    "        cor_faturamento_dia = '#FF0000'\n",
    "    if faturamento_ano >= meta_faturamento_ano:\n",
    "        cor_faturamento_ano = '#008000'\n",
    "    else:\n",
    "        cor_faturamento_ano = '#FF0000'\n",
    "    if qte_produtos_diferentes_dia >= meta_qtheprodutos_dia:\n",
    "        cor_qte_produtos_dia = '#008000' \n",
    "    else:\n",
    "        cor_qte_produtos_dia = '#FF0000'       \n",
    "    if qte_produtos_diferentes_ano >= meta_qtheprodutos_ano:\n",
    "        cor_qte_produtos_ano = '#008000'      \n",
    "    else:\n",
    "        cor_qte_produtos_ano = '#FF0000'  \n",
    "    if ticketmedio_dia >= meta_ticketmedio_dia:\n",
    "        cor_ticketmedio_dia = '#008000'\n",
    "    else:\n",
    "        cor_ticketmedio_dia = '#FF0000'      \n",
    "    if ticketmedio_ano >= meta_ticketmedio_ano:\n",
    "        cor_ticketmedio_ano = '#008000'      \n",
    "    else:\n",
    "        cor_ticketmedio_ano = '#FF0000'\n",
    "\n",
    "    mail.HTMLBody = f'''\n",
    "\n",
    "    <p>Bom dia, {nome_gerente}</p>\n",
    "\n",
    "    <p>O resultado de ontem <strong>({dia_indicador.day}/{dia_indicador.month})</strong> da <strong>Loja {loja}</strong> foi:</p>\n",
    "\n",
    "    <table>\n",
    "      <tr>\n",
    "        <th>Indicador</th>\n",
    "        <th>Valor Dia</th>\n",
    "        <th>Meta Dia</th>\n",
    "        <th>Cenário Dia</th>\n",
    "      </tr>\n",
    "      <tr>\n",
    "        <td>Faturamento</td>\n",
    "        <td style=\"text-align: center\">R${faturamento_dia:.2f}</td>\n",
    "        <td style=\"text-align: center\">R${meta_faturamento_dia:.2f}</td>\n",
    "        <td style=\"text-align: center\"><font color=\"{cor_faturamento_dia}\">◙</font></td>\n",
    "      </tr>\n",
    "      <tr>\n",
    "        <td>Diversidade de Produtos</td>\n",
    "        <td style=\"text-align: center\">{qte_produtos_diferentes_dia}</td>\n",
    "        <td style=\"text-align: center\">{meta_qtheprodutos_dia}</td>\n",
    "        <td style=\"text-align: center\"><font color=\"{cor_qte_produtos_dia}\">◙</font></td>\n",
    "      </tr>\n",
    "      <tr>\n",
    "        <td>Ticket Médio</td>\n",
    "        <td style=\"text-align: center\">R${ticketmedio_dia:.2f}</td>\n",
    "        <td style=\"text-align: center\">R${meta_ticketmedio_dia:.2f}</td>\n",
    "        <td style=\"text-align: center\"><font color=\"{cor_ticketmedio_dia}\">◙</font></td>\n",
    "      </tr>\n",
    "    </table>\n",
    "    <br>\n",
    "    <table>\n",
    "      <tr>\n",
    "        <th>Indicador</th>\n",
    "        <th>Valor Ano</th>\n",
    "        <th>Meta Ano</th>\n",
    "        <th>Cenário Ano</th>\n",
    "      </tr>\n",
    "      <tr>\n",
    "        <td>Faturamento</td>\n",
    "        <td style=\"text-align: center\">R${faturamento_ano:.2f}</td>\n",
    "        <td style=\"text-align: center\">R${meta_faturamento_ano:.2f}</td>\n",
    "        <td style=\"text-align: center\"><font color=\"{cor_faturamento_ano}\">◙</font></td>\n",
    "      </tr>\n",
    "      <tr>\n",
    "        <td>Diversidade de Produtos</td>\n",
    "        <td style=\"text-align: center\">{qte_produtos_diferentes_ano}</td>\n",
    "        <td style=\"text-align: center\">{meta_qtheprodutos_ano}</td>\n",
    "        <td style=\"text-align: center\"><font color=\"{cor_qte_produtos_ano}\">◙</font></td>\n",
    "      </tr>\n",
    "      <tr>\n",
    "        <td>Ticket Médio</td>\n",
    "        <td style=\"text-align: center\">R${ticketmedio_ano:.2f}</td>\n",
    "        <td style=\"text-align: center\">R${meta_ticketmedio_ano:.2f}</td>\n",
    "        <td style=\"text-align: center\"><font color=\"{cor_faturamento_ano}\">◙</font></td>\n",
    "      </tr>\n",
    "    </table>\n",
    "\n",
    "    <p>Segue em anexo a planilha com todos os dados para mais detalhes.</p>\n",
    "\n",
    "    <p>Qualquer dúvida estou à disposição.</p>\n",
    "    <p>Att., Alguém legal que fez isso</p>\n",
    "    '''\n",
    "    print(p.cwd())\n",
    "    attachment  = p(f\"'CAMINHO DA PASTA DE BACKUP'/{loja}/{loja} {dia_indicador.day}-{dia_indicador.month}.xlsx\")\n",
    "    mail.Attachments.Add(str(attachment))\n",
    "    mail.Send()\n"
   ]
  },
  {
   "cell_type": "markdown",
   "metadata": {},
   "source": [
    "### Passo 5 - Criar ranking para diretoria"
   ]
  },
  {
   "cell_type": "code",
   "execution_count": 11,
   "metadata": {},
   "outputs": [],
   "source": [
    "faturamento_lojas = base_vendas.groupby('Loja')[['Valor Final']].sum()\n",
    "faturamento_lojas_ano = faturamento_lojas.sort_values(by='Valor Final', ascending=False)\n",
    "\n",
    "vendas_dia = base_vendas.loc[base_vendas['Data']==dia_indicador, :]\n",
    "faturamento_lojas_dia = vendas_dia.groupby('Loja')[['Valor Final']].sum()\n",
    "faturamento_lojas_dia = faturamento_lojas_dia.sort_values(by='Valor Final', ascending=False)\n",
    "\n",
    "\n",
    "caminho = p(f\"{p.cwd()}/Ranking Dia {dia_indicador.day}-{dia_indicador.month}.xlsx\")\n",
    "faturamento_lojas_dia.to_excel(f'{caminho}')\n",
    "\n",
    "caminho = p(f\"{p.cwd()}/Ranking Ano.xlsx\")\n",
    "faturamento_lojas_ano.to_excel(caminho)\n",
    "\n",
    "#CRIA O FATURAMENTE DO DIA E DO ANO NO MESMO ARQUIVO EM QUE O PROGRAMA ESTÁ SENDO EXECUTADO"
   ]
  },
  {
   "cell_type": "markdown",
   "metadata": {},
   "source": [
    "Passo 6 - Enviar e-mail para a diretoria"
   ]
  },
  {
   "cell_type": "code",
   "execution_count": 15,
   "metadata": {},
   "outputs": [
    {
     "name": "stdout",
     "output_type": "stream",
     "text": [
      "E-mail da Diretoria enviado\n"
     ]
    }
   ],
   "source": [
    "outlook = win32.Dispatch('outlook.application')\n",
    "\n",
    "mail = outlook.CreateItem(0)\n",
    "mail.To = base_emails.loc[base_emails['Loja']=='Diretoria', 'E-mail'].values[0]\n",
    "mail.Subject = f'Ranking Dia {dia_indicador.day}/{dia_indicador.month}'\n",
    "mail.Body = f'''\n",
    "Prezados, bom dia\n",
    "\n",
    "Melhor loja do Dia em Faturamento: Loja {faturamento_lojas_dia.index[0]} com Faturamento R${faturamento_lojas_dia.iloc[0, 0]:.2f}\n",
    "Pior loja do Dia em Faturamento: Loja {faturamento_lojas_dia.index[-1]} com Faturamento R${faturamento_lojas_dia.iloc[-1, 0]:.2f}\n",
    "\n",
    "Melhor loja do Ano em Faturamento: Loja {faturamento_lojas_ano.index[0]} com Faturamento R${faturamento_lojas_ano.iloc[0, 0]:.2f}\n",
    "Pior loja do Ano em Faturamento: Loja {faturamento_lojas_ano.index[-1]} com Faturamento R${faturamento_lojas_ano.iloc[-1, 0]:.2f}\n",
    "\n",
    "Segue em anexo os rankings do ano e do dia de todas as lojas.\n",
    "\n",
    "Qualquer dúvida estou à disposição.\n",
    "\n",
    "Att.,\n",
    "'''\n",
    "\n",
    "attachment  = p(f'{p.cwd()}/Ranking Ano.xlsx')\n",
    "mail.Attachments.Add(str(attachment))\n",
    "attachment  = p(f'{p.cwd()}/Ranking Dia {dia_indicador.day}-{dia_indicador.month}.xlsx')\n",
    "mail.Attachments.Add(str(attachment))\n",
    "mail.Send()\n",
    "\n",
    "print('E-mail da Diretoria enviado')"
   ]
  }
 ],
 "metadata": {
  "kernelspec": {
   "display_name": "Python 3",
   "language": "python",
   "name": "python3"
  },
  "language_info": {
   "codemirror_mode": {
    "name": "ipython",
    "version": 3
   },
   "file_extension": ".py",
   "mimetype": "text/x-python",
   "name": "python",
   "nbconvert_exporter": "python",
   "pygments_lexer": "ipython3",
   "version": "3.11.4"
  }
 },
 "nbformat": 4,
 "nbformat_minor": 4
}
